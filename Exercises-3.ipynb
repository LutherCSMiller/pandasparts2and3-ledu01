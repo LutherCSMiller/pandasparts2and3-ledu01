{
 "cells": [
  {
   "cell_type": "code",
   "execution_count": 1,
   "metadata": {
    "collapsed": false
   },
   "outputs": [],
   "source": [
    "%matplotlib inline\n",
    "import pandas as pd"
   ]
  },
  {
   "cell_type": "code",
   "execution_count": 2,
   "metadata": {
    "collapsed": false
   },
   "outputs": [
    {
     "data": {
      "text/html": [
       "<style>body {\n",
       "    margin: 0;\n",
       "    font-family: Helvetica;\n",
       "}\n",
       "table.dataframe {\n",
       "    border-collapse: collapse;\n",
       "    border: none;\n",
       "}\n",
       "table.dataframe tr {\n",
       "    border: none;\n",
       "}\n",
       "table.dataframe td, table.dataframe th {\n",
       "    margin: 0;\n",
       "    border: 1px solid white;\n",
       "    padding-left: 0.25em;\n",
       "    padding-right: 0.25em;\n",
       "}\n",
       "table.dataframe th:not(:empty) {\n",
       "    background-color: #fec;\n",
       "    text-align: left;\n",
       "    font-weight: normal;\n",
       "}\n",
       "table.dataframe tr:nth-child(2) th:empty {\n",
       "    border-left: none;\n",
       "    border-right: 1px dashed #888;\n",
       "}\n",
       "table.dataframe td {\n",
       "    border: 2px solid #ccf;\n",
       "    background-color: #f4f4ff;\n",
       "}\n",
       "h3 {\n",
       "    color: white;\n",
       "    background-color: black;\n",
       "    padding: 0.5em;\n",
       "}\n",
       "</style>"
      ],
      "text/plain": [
       "<IPython.core.display.HTML object>"
      ]
     },
     "execution_count": 2,
     "metadata": {},
     "output_type": "execute_result"
    }
   ],
   "source": [
    "from IPython.core.display import HTML\n",
    "css = open('style-table.css').read() + open('style-notebook.css').read()\n",
    "HTML('<style>{}</style>'.format(css))"
   ]
  },
  {
   "cell_type": "code",
   "execution_count": 3,
   "metadata": {
    "collapsed": false
   },
   "outputs": [
    {
     "data": {
      "text/html": [
       "<div>\n",
       "<table border=\"1\" class=\"dataframe\">\n",
       "  <thead>\n",
       "    <tr style=\"text-align: right;\">\n",
       "      <th></th>\n",
       "      <th>title</th>\n",
       "      <th>year</th>\n",
       "    </tr>\n",
       "  </thead>\n",
       "  <tbody>\n",
       "    <tr>\n",
       "      <th>0</th>\n",
       "      <td>8</td>\n",
       "      <td>2007</td>\n",
       "    </tr>\n",
       "    <tr>\n",
       "      <th>1</th>\n",
       "      <td>Romans</td>\n",
       "      <td>2016</td>\n",
       "    </tr>\n",
       "    <tr>\n",
       "      <th>2</th>\n",
       "      <td>Ultra-Toxic</td>\n",
       "      <td>2005</td>\n",
       "    </tr>\n",
       "    <tr>\n",
       "      <th>3</th>\n",
       "      <td>The Candy Man</td>\n",
       "      <td>1969</td>\n",
       "    </tr>\n",
       "    <tr>\n",
       "      <th>4</th>\n",
       "      <td>Friends &amp; Lovers: The Ski Trip 2</td>\n",
       "      <td>2008</td>\n",
       "    </tr>\n",
       "  </tbody>\n",
       "</table>\n",
       "</div>"
      ],
      "text/plain": [
       "                              title  year\n",
       "0                                 8  2007\n",
       "1                            Romans  2016\n",
       "2                       Ultra-Toxic  2005\n",
       "3                     The Candy Man  1969\n",
       "4  Friends & Lovers: The Ski Trip 2  2008"
      ]
     },
     "execution_count": 3,
     "metadata": {},
     "output_type": "execute_result"
    }
   ],
   "source": [
    "titles = pd.DataFrame.from_csv('data/titles.csv', index_col=None)\n",
    "titles.head()"
   ]
  },
  {
   "cell_type": "code",
   "execution_count": 4,
   "metadata": {
    "collapsed": false
   },
   "outputs": [
    {
     "data": {
      "text/html": [
       "<div>\n",
       "<table border=\"1\" class=\"dataframe\">\n",
       "  <thead>\n",
       "    <tr style=\"text-align: right;\">\n",
       "      <th></th>\n",
       "      <th>title</th>\n",
       "      <th>year</th>\n",
       "      <th>name</th>\n",
       "      <th>type</th>\n",
       "      <th>character</th>\n",
       "      <th>n</th>\n",
       "    </tr>\n",
       "  </thead>\n",
       "  <tbody>\n",
       "    <tr>\n",
       "      <th>0</th>\n",
       "      <td>Suuri illusioni</td>\n",
       "      <td>1985</td>\n",
       "      <td>Homo $</td>\n",
       "      <td>actor</td>\n",
       "      <td>Guests</td>\n",
       "      <td>22.0</td>\n",
       "    </tr>\n",
       "    <tr>\n",
       "      <th>1</th>\n",
       "      <td>Battle of the Sexes</td>\n",
       "      <td>2017</td>\n",
       "      <td>$hutter</td>\n",
       "      <td>actor</td>\n",
       "      <td>Bobby Riggs Fan</td>\n",
       "      <td>10.0</td>\n",
       "    </tr>\n",
       "    <tr>\n",
       "      <th>2</th>\n",
       "      <td>Secret in Their Eyes</td>\n",
       "      <td>2015</td>\n",
       "      <td>$hutter</td>\n",
       "      <td>actor</td>\n",
       "      <td>2002 Dodger Fan</td>\n",
       "      <td>NaN</td>\n",
       "    </tr>\n",
       "    <tr>\n",
       "      <th>3</th>\n",
       "      <td>Steve Jobs</td>\n",
       "      <td>2015</td>\n",
       "      <td>$hutter</td>\n",
       "      <td>actor</td>\n",
       "      <td>1988 Opera House Patron</td>\n",
       "      <td>NaN</td>\n",
       "    </tr>\n",
       "    <tr>\n",
       "      <th>4</th>\n",
       "      <td>Straight Outta Compton</td>\n",
       "      <td>2015</td>\n",
       "      <td>$hutter</td>\n",
       "      <td>actor</td>\n",
       "      <td>Club Patron</td>\n",
       "      <td>NaN</td>\n",
       "    </tr>\n",
       "  </tbody>\n",
       "</table>\n",
       "</div>"
      ],
      "text/plain": [
       "                    title  year     name   type                character     n\n",
       "0         Suuri illusioni  1985   Homo $  actor                   Guests  22.0\n",
       "1     Battle of the Sexes  2017  $hutter  actor          Bobby Riggs Fan  10.0\n",
       "2    Secret in Their Eyes  2015  $hutter  actor          2002 Dodger Fan   NaN\n",
       "3              Steve Jobs  2015  $hutter  actor  1988 Opera House Patron   NaN\n",
       "4  Straight Outta Compton  2015  $hutter  actor              Club Patron   NaN"
      ]
     },
     "execution_count": 4,
     "metadata": {},
     "output_type": "execute_result"
    }
   ],
   "source": [
    "cast = pd.DataFrame.from_csv('data/cast.csv', index_col=None)\n",
    "cast.head()"
   ]
  },
  {
   "cell_type": "code",
   "execution_count": null,
   "metadata": {
    "collapsed": false
   },
   "outputs": [],
   "source": []
  },
  {
   "cell_type": "markdown",
   "metadata": {
    "collapsed": true
   },
   "source": [
    "### Using groupby(), plot the number of films that have been released each decade in the history of cinema."
   ]
  },
  {
   "cell_type": "code",
   "execution_count": 5,
   "metadata": {
    "collapsed": true
   },
   "outputs": [],
   "source": [
    "titles['decade'] = titles.year // 10 * 10"
   ]
  },
  {
   "cell_type": "code",
   "execution_count": 6,
   "metadata": {
    "collapsed": false
   },
   "outputs": [
    {
     "data": {
      "text/plain": [
       "<matplotlib.axes._subplots.AxesSubplot at 0x7fb7fa347128>"
      ]
     },
     "execution_count": 6,
     "metadata": {},
     "output_type": "execute_result"
    },
    {
     "data": {
      "image/png": "[encoded data removed]",
      "text/plain": [
       "<matplotlib.figure.Figure at 0x7fb7fa3293c8>"
      ]
     },
     "metadata": {},
     "output_type": "display_data"
    }
   ],
   "source": [
    "titles.groupby([\"decade\"]).title.count().plot(kind=\"barh\")"
   ]
  },
  {
   "cell_type": "markdown",
   "metadata": {
    "collapsed": true
   },
   "source": [
    "### Use groupby() to plot the number of \"Hamlet\" films made each decade."
   ]
  },
  {
   "cell_type": "code",
   "execution_count": 8,
   "metadata": {
    "collapsed": false
   },
   "outputs": [
    {
     "data": {
      "text/plain": [
       "<matplotlib.axes._subplots.AxesSubplot at 0x7fb839cbaa58>"
      ]
     },
     "execution_count": 8,
     "metadata": {},
     "output_type": "execute_result"
    },
    {
     "data": {
      "image/png": "[encoded data removed]",
      "text/plain": [
       "<matplotlib.figure.Figure at 0x7fb839cc8f28>"
      ]
     },
     "metadata": {},
     "output_type": "display_data"
    }
   ],
   "source": [
    "titles[titles.title == \"Hamlet\"].groupby([\"decade\"]).size().plot(kind=\"barh\")"
   ]
  },
  {
   "cell_type": "code",
   "execution_count": null,
   "metadata": {
    "collapsed": true
   },
   "outputs": [],
   "source": []
  },
  {
   "cell_type": "markdown",
   "metadata": {
    "collapsed": true
   },
   "source": [
    "### How many leading (n=1) roles were available to actors, and how many to actresses, in each year of the 1950s?"
   ]
  },
  {
   "cell_type": "code",
   "execution_count": 12,
   "metadata": {
    "collapsed": false
   },
   "outputs": [
    {
     "data": {
      "text/plain": [
       "{1950: 618,\n",
       " 1951: 644,\n",
       " 1952: 602,\n",
       " 1953: 654,\n",
       " 1954: 637,\n",
       " 1955: 629,\n",
       " 1956: 640,\n",
       " 1957: 726,\n",
       " 1958: 703,\n",
       " 1959: 710}"
      ]
     },
     "execution_count": 12,
     "metadata": {},
     "output_type": "execute_result"
    }
   ],
   "source": [
    "totalforactor = {}\n",
    "for i in range(1950,1960):\n",
    "    totalforactor[i] = cast[(cast.n == 1)&(cast.year == i)&(cast.type==\"actor\")].n.count()\n",
    "totalforactor"
   ]
  },
  {
   "cell_type": "code",
   "execution_count": 13,
   "metadata": {
    "collapsed": false
   },
   "outputs": [
    {
     "data": {
      "text/plain": [
       "{1950: 278,\n",
       " 1951: 279,\n",
       " 1952: 290,\n",
       " 1953: 298,\n",
       " 1954: 307,\n",
       " 1955: 280,\n",
       " 1956: 302,\n",
       " 1957: 300,\n",
       " 1958: 292,\n",
       " 1959: 314}"
      ]
     },
     "execution_count": 13,
     "metadata": {},
     "output_type": "execute_result"
    }
   ],
   "source": [
    "totalforactress = {}\n",
    "for i in range(1950,1960):\n",
    "    totalforactress[i] = cast[(cast.n == 1)&(cast.year == i)&(cast.type==\"actress\")].n.count()\n",
    "totalforactress"
   ]
  },
  {
   "cell_type": "markdown",
   "metadata": {
    "collapsed": true
   },
   "source": [
    "### In the 1950s decade taken as a whole, how many total roles were available to actors, and how many to actresses, for each \"n\" number 1 through 5?"
   ]
  },
  {
   "cell_type": "code",
   "execution_count": 14,
   "metadata": {
    "collapsed": false
   },
   "outputs": [
    {
     "data": {
      "text/plain": [
       "{1: 100447, 2: 73605, 3: 81210, 4: 78406, 5: 77403}"
      ]
     },
     "execution_count": 14,
     "metadata": {},
     "output_type": "execute_result"
    }
   ],
   "source": [
    "nactor = {}\n",
    "for i in range(1,6):\n",
    "    nactor[i] = cast[(cast.n == i)&(cast.type==\"actor\")].n.count()\n",
    "nactor"
   ]
  },
  {
   "cell_type": "code",
   "execution_count": 15,
   "metadata": {
    "collapsed": false
   },
   "outputs": [
    {
     "data": {
      "text/plain": [
       "{1: 44816, 2: 62285, 3: 47936, 4: 44514, 5: 39189}"
      ]
     },
     "execution_count": 15,
     "metadata": {},
     "output_type": "execute_result"
    }
   ],
   "source": [
    "nactress = {}\n",
    "for i in range(1,6):\n",
    "    nactress[i] = cast[(cast.n == i)&(cast.type==\"actress\")].n.count()\n",
    "nactress"
   ]
  },
  {
   "cell_type": "markdown",
   "metadata": {
    "collapsed": true
   },
   "source": [
    "### Use groupby() to determine how many roles are listed for each of the Pink Panther movies."
   ]
  },
  {
   "cell_type": "code",
   "execution_count": 71,
   "metadata": {
    "collapsed": false
   },
   "outputs": [
    {
     "data": {
      "text/plain": [
       "Series([], dtype: int64)"
      ]
     },
     "execution_count": 71,
     "metadata": {},
     "output_type": "execute_result"
    }
   ],
   "source": [
    "cast[cast.title == \"Pink Panther\"].groupby(\"character\").size()"
   ]
  },
  {
   "cell_type": "code",
   "execution_count": null,
   "metadata": {
    "collapsed": true
   },
   "outputs": [],
   "source": []
  },
  {
   "cell_type": "markdown",
   "metadata": {
    "collapsed": true
   },
   "source": [
    "### List, in order by year, each of the films in which Frank Oz has played more than 1 role."
   ]
  },
  {
   "cell_type": "code",
   "execution_count": 73,
   "metadata": {
    "collapsed": false
   },
   "outputs": [
    {
     "name": "stdout",
     "output_type": "stream",
     "text": [
      "1638044    An American Werewolf in London\n",
      "1638045    An American Werewolf in London\n",
      "Name: title, dtype: object\n",
      "1638047    Follow That Bird\n",
      "1638048    Follow That Bird\n",
      "1638049    Follow That Bird\n",
      "Name: title, dtype: object\n",
      "1638054    Muppet Treasure Island\n",
      "1638055    Muppet Treasure Island\n",
      "1638056    Muppet Treasure Island\n",
      "1638057    Muppet Treasure Island\n",
      "Name: title, dtype: object\n",
      "1638058    Muppets from Space\n",
      "1638059    Muppets from Space\n",
      "1638060    Muppets from Space\n",
      "1638061    Muppets from Space\n",
      "Name: title, dtype: object\n",
      "1638071    The Adventures of Elmo in Grouchland\n",
      "1638072    The Adventures of Elmo in Grouchland\n",
      "1638073    The Adventures of Elmo in Grouchland\n",
      "Name: title, dtype: object\n",
      "1638075    The Dark Crystal\n",
      "1638076    The Dark Crystal\n",
      "Name: title, dtype: object\n",
      "1638077    The Great Muppet Caper\n",
      "1638078    The Great Muppet Caper\n",
      "1638079    The Great Muppet Caper\n",
      "1638080    The Great Muppet Caper\n",
      "1638081    The Great Muppet Caper\n",
      "1638082    The Great Muppet Caper\n",
      "Name: title, dtype: object\n",
      "1638083    The Muppet Christmas Carol\n",
      "1638084    The Muppet Christmas Carol\n",
      "1638085    The Muppet Christmas Carol\n",
      "1638086    The Muppet Christmas Carol\n",
      "1638087    The Muppet Christmas Carol\n",
      "1638088    The Muppet Christmas Carol\n",
      "1638089    The Muppet Christmas Carol\n",
      "Name: title, dtype: object\n",
      "1638090    The Muppet Movie\n",
      "1638091    The Muppet Movie\n",
      "1638092    The Muppet Movie\n",
      "1638093    The Muppet Movie\n",
      "1638094    The Muppet Movie\n",
      "1638095    The Muppet Movie\n",
      "1638096    The Muppet Movie\n",
      "1638097    The Muppet Movie\n",
      "Name: title, dtype: object\n",
      "1638098    The Muppets Take Manhattan\n",
      "1638099    The Muppets Take Manhattan\n",
      "1638100    The Muppets Take Manhattan\n",
      "1638101    The Muppets Take Manhattan\n",
      "1638102    The Muppets Take Manhattan\n",
      "1638103    The Muppets Take Manhattan\n",
      "1638104    The Muppets Take Manhattan\n",
      "Name: title, dtype: object\n"
     ]
    }
   ],
   "source": [
    "for i in cast[(cast.name == \"Frank Oz\")].groupby([\"title\"]):\n",
    "    if i[1].character.count()>=2:\n",
    "        print(i[1].title)"
   ]
  },
  {
   "cell_type": "code",
   "execution_count": null,
   "metadata": {
    "collapsed": true
   },
   "outputs": [],
   "source": []
  },
  {
   "cell_type": "markdown",
   "metadata": {
    "collapsed": true
   },
   "source": [
    "### List each of the characters that Frank Oz has portrayed at least twice."
   ]
  },
  {
   "cell_type": "code",
   "execution_count": 74,
   "metadata": {
    "collapsed": false
   },
   "outputs": [
    {
     "name": "stdout",
     "output_type": "stream",
     "text": [
      "1638057    Animal\n",
      "1638060    Animal\n",
      "1638079    Animal\n",
      "1638086    Animal\n",
      "1638092    Animal\n",
      "1638100    Animal\n",
      "Name: character, dtype: object\n",
      "1638048    Bert\n",
      "1638071    Bert\n",
      "1638101    Bert\n",
      "Name: character, dtype: object\n",
      "1638047    Cookie Monster\n",
      "1638073    Cookie Monster\n",
      "1638102    Cookie Monster\n",
      "Name: character, dtype: object\n",
      "1638055    Fozzie Bear\n",
      "1638059    Fozzie Bear\n",
      "1638078    Fozzie Bear\n",
      "1638091    Fozzie Bear\n",
      "Name: character, dtype: object\n",
      "1638049    Grover\n",
      "1638072    Grover\n",
      "Name: character, dtype: object\n",
      "1638045    Miss Piggy\n",
      "1638054    Miss Piggy\n",
      "1638058    Miss Piggy\n",
      "1638077    Miss Piggy\n",
      "1638090    Miss Piggy\n",
      "1638098    Miss Piggy\n",
      "Name: character, dtype: object\n",
      "1638056    Sam the Eagle\n",
      "1638061    Sam the Eagle\n",
      "1638080    Sam the Eagle\n",
      "1638093    Sam the Eagle\n",
      "1638104    Sam the Eagle\n",
      "Name: character, dtype: object\n",
      "1638063    Yoda\n",
      "1638064    Yoda\n",
      "1638065    Yoda\n",
      "1638066    Yoda\n",
      "1638067    Yoda\n",
      "1638068    Yoda\n",
      "1638069    Yoda\n",
      "Name: character, dtype: object\n"
     ]
    }
   ],
   "source": [
    "for i in cast[(cast.name == \"Frank Oz\")].groupby([\"character\"]):\n",
    "    if i[1].character.count()>=2:\n",
    "        print(i[1].character)"
   ]
  },
  {
   "cell_type": "code",
   "execution_count": null,
   "metadata": {
    "collapsed": true
   },
   "outputs": [],
   "source": []
  }
 ],
 "metadata": {
  "kernelspec": {
   "display_name": "Python 3",
   "language": "python",
   "name": "python3"
  },
  "language_info": {
   "codemirror_mode": {
    "name": "ipython",
    "version": 3
   },
   "file_extension": ".py",
   "mimetype": "text/x-python",
   "name": "python",
   "nbconvert_exporter": "python",
   "pygments_lexer": "ipython3",
   "version": "3.5.1"
  }
 },
 "nbformat": 4,
 "nbformat_minor": 0
}
